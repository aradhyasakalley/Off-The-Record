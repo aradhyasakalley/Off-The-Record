{
 "cells": [
  {
   "cell_type": "code",
   "execution_count": 64,
   "id": "d4930080",
   "metadata": {},
   "outputs": [],
   "source": [
    "import requests\n",
    "from bs4 import BeautifulSoup\n",
    "import requests\n",
    "from urllib.parse import quote"
   ]
  },
  {
   "cell_type": "code",
   "execution_count": 70,
   "id": "0c24cff8",
   "metadata": {},
   "outputs": [
    {
     "name": "stdout",
     "output_type": "stream",
     "text": [
      "https://www.flipkart.com/search?q=samsung%20salaxy%20s22%20ultra\n"
     ]
    }
   ],
   "source": [
    "import requests\n",
    "from urllib.parse import quote\n",
    "\n",
    "def build_search_url(query):\n",
    "    base_url = \"https://www.flipkart.com/search?q=\"\n",
    "    encoded_query = quote(query)\n",
    "    search_url = base_url + encoded_query\n",
    "    return search_url\n",
    "search_query = \"samsung salaxy s22 ultra\"\n",
    "search_url = build_search_url(search_query)\n",
    "print(search_url)"
   ]
  },
  {
   "cell_type": "code",
   "execution_count": 74,
   "id": "d91720bf",
   "metadata": {},
   "outputs": [],
   "source": [
    "response = requests.get(search_url)"
   ]
  },
  {
   "cell_type": "code",
   "execution_count": 76,
   "id": "ddc7a987",
   "metadata": {},
   "outputs": [],
   "source": [
    "content = BeautifulSoup(response.content, \"html.parser\")\n",
    "data = content.find_all('div',{'class':'_2kHMtA'})"
   ]
  },
  {
   "cell_type": "markdown",
   "id": "d0b1ce8b",
   "metadata": {},
   "source": [
    "# Search results page scraper"
   ]
  },
  {
   "cell_type": "code",
   "execution_count": 79,
   "id": "6d6b7640",
   "metadata": {},
   "outputs": [
    {
     "name": "stdout",
     "output_type": "stream",
     "text": [
      "[{'name': 'SAMSUNG Galaxy S22 Ultra 5G (Phantom Black, 256 GB)', 'link': 'https://www.flipkart.com/samsung-galaxy-s22-ultra-5g-phantom-black-256-gb/p/itm7ca5bd1817da5?pid=MOBGGG2YA4MHBBZZ&lid=LSTMOBGGG2YA4MHBBZZM13247&marketplace=FLIPKART&q=samsung+salaxy+s22+ultra&store=tyy%2F4io&srno=s_1_1&otracker=search&fm=organic&iid=fc77eb28-163b-45d7-852f-3d9e7078033d.MOBGGG2YA4MHBBZZ.SEARCH&ppt=None&ppn=None&ssid=zg1wh4w0m80000001710259792634&qH=c6e1a112140f4071'}, {'name': 'SAMSUNG Galaxy S22 ultra 5G (Burgundy, 256 GB)', 'link': 'https://www.flipkart.com/samsung-galaxy-s22-ultra-5g-burgundy-256-gb/p/itm4a36ce5b68e8b?pid=MOBGE3ZY5QGK2HA8&lid=LSTMOBGE3ZY5QGK2HA8VES9WH&marketplace=FLIPKART&q=samsung+salaxy+s22+ultra&store=tyy%2F4io&srno=s_1_2&otracker=search&fm=organic&iid=fc77eb28-163b-45d7-852f-3d9e7078033d.MOBGE3ZY5QGK2HA8.SEARCH&ppt=None&ppn=None&ssid=zg1wh4w0m80000001710259792634&qH=c6e1a112140f4071'}, {'name': 'SAMSUNG Galaxy S22 Ultra 5G (Burgundy, 256 GB)', 'link': 'https://www.flipkart.com/samsung-galaxy-s22-ultra-5g-burgundy-256-gb/p/itmf51ff0d89f6f3?pid=MOBGGG2YTNPAFPYW&lid=LSTMOBGGG2YTNPAFPYWTPHQQY&marketplace=FLIPKART&q=samsung+salaxy+s22+ultra&store=tyy%2F4io&srno=s_1_3&otracker=search&fm=organic&iid=fc77eb28-163b-45d7-852f-3d9e7078033d.MOBGGG2YTNPAFPYW.SEARCH&ppt=None&ppn=None&ssid=zg1wh4w0m80000001710259792634&qH=c6e1a112140f4071'}, {'name': 'SAMSUNG Galaxy S22 Ultra 5G (Phantom Black, 512 GB)', 'link': 'https://www.flipkart.com/samsung-galaxy-s22-ultra-5g-phantom-black-512-gb/p/itm03548d2bd4686?pid=MOBGGG2YMRSPFFSP&lid=LSTMOBGGG2YMRSPFFSPQZXW7Q&marketplace=FLIPKART&q=samsung+salaxy+s22+ultra&store=tyy%2F4io&srno=s_1_4&otracker=search&fm=organic&iid=fc77eb28-163b-45d7-852f-3d9e7078033d.MOBGGG2YMRSPFFSP.SEARCH&ppt=None&ppn=None&ssid=zg1wh4w0m80000001710259792634&qH=c6e1a112140f4071'}, {'name': 'SAMSUNG Galaxy S22 Ultra 5G (Phantom White, 256 GB)', 'link': 'https://www.flipkart.com/samsung-galaxy-s22-ultra-5g-phantom-white-256-gb/p/itm497b5d9c2d18e?pid=MOBGGG2YXGCNUHAW&lid=LSTMOBGGG2YXGCNUHAW4NIAPG&marketplace=FLIPKART&q=samsung+salaxy+s22+ultra&store=tyy%2F4io&srno=s_1_5&otracker=search&fm=organic&iid=fc77eb28-163b-45d7-852f-3d9e7078033d.MOBGGG2YXGCNUHAW.SEARCH&ppt=None&ppn=None&ssid=zg1wh4w0m80000001710259792634&qH=c6e1a112140f4071'}]\n"
     ]
    }
   ],
   "source": [
    "result_list = []\n",
    "\n",
    "for item in data[:5]:\n",
    "    rest_link = item.find('a')['href']\n",
    "    name_element = item.find('div', attrs={'class': '_4rR01T'})\n",
    "    if name_element is not None:\n",
    "        name = name_element.text\n",
    "        link = start_link + rest_link\n",
    "        result_list.append({'name': name, 'link': link})\n",
    "\n",
    "print(result_list)"
   ]
  },
  {
   "cell_type": "markdown",
   "id": "400eb7a6",
   "metadata": {},
   "source": [
    "# Product page scrapers"
   ]
  },
  {
   "cell_type": "code",
   "execution_count": 83,
   "id": "1b6522d4",
   "metadata": {},
   "outputs": [
    {
     "name": "stdout",
     "output_type": "stream",
     "text": [
      "{'title': 'SAMSUNG Galaxy S22 Ultra 5G (Phantom Black, 256 GB)\\xa0\\xa0(12 GB RAM)', 'image': 'https://rukminim2.flixcart.com/image/416/416/xif0q/mobile/w/t/r/-original-imaggj68cgtdacxn.jpeg?q=70&crop=false', 'reviews': '36', 'price': '₹1,09,999', 'disc_perc': '16% off', 'highlights': ['12 GB RAM | 256 GB ROM', '17.27 cm (6.8 inch) Quad HD+ Display', '108MP + 12MP + 10MP + 10MP | 40MP Front Camera', '5000 mAh Lithium-ion Battery', 'Octa Core Processor'], 'offers': ['Bank Offer10% Upto ₹2500 off on Samsung Axis Bank Signature credit cardT&CBank Offer10% Upto ₹5000 on Samsung Axis Bank Infinite Credit CardT&CBank Offer10% off on Axis Bank Credit Card Txns, up to ₹750 on orders of ₹5,000 and aboveT&CPartner OfferSign-up for Flipkart Pay Later & get free Times Prime Benefits worth ₹10,000*Know MoreView 15 more offers'], 'category': ['Home', 'Mobiles & Accessories', 'Mobiles']}\n"
     ]
    }
   ],
   "source": [
    "def flipkart_scraper(url):\n",
    "    headers = {\n",
    "        'User-Agent': 'Mozilla/5.0 (Windows NT 10.0; Win64; x64) AppleWebKit/537.36 (KHTML, like Gecko) Chrome/58.0.3029.110 Safari/537.3',\n",
    "        'Accept': 'text/html,application/xhtml+xml,application/xml;q=0.9,image/webp,image/apng,/;q=0.8',\n",
    "        'Accept-Encoding': 'gzip, deflate, br',\n",
    "        'Accept-Language': 'en-US,en;q=0.9',\n",
    "        'Connection': 'keep-alive'\n",
    "    }\n",
    "\n",
    "    page = requests.get(url, headers=headers)\n",
    "    soup = BeautifulSoup(page.content, 'html.parser')\n",
    "    \n",
    "    data = {}\n",
    "\n",
    "    title = soup.find('h1', class_=\"yhB1nd\").text\n",
    "    data['title'] = title\n",
    "\n",
    "    img_tag = soup.find('img', class_='_396cs4 _2amPTt _3qGmMb')\n",
    "    image_src = img_tag['src']\n",
    "    data['image'] = image_src\n",
    "\n",
    "    value = soup.find('span', class_=\"_2_R_DZ\").text.strip()\n",
    "    split = value.split(\"&\")\n",
    "    ratings = split[0].split()[0]\n",
    "    reviews = split[1].split()[0]\n",
    "    # data['ratings'] = ratings\n",
    "    data['reviews'] = reviews\n",
    "\n",
    "    stars = soup.find('div', class_=\"_3LWZlK\").text\n",
    "    # data['stars'] = stars\n",
    "\n",
    "    price = soup.find('div', class_=\"_30jeq3 _16Jk6d\").text\n",
    "    data['price'] = price\n",
    "    disc_perc = soup.find('div', class_ = '_3Ay6Sb _31Dcoz').text\n",
    "    data['disc_perc'] = disc_perc\n",
    "    description_div = soup.find('div', class_='_1mXcCf RmoJUa')\n",
    "    if description_div:\n",
    "        description_p = description_div.find('p')\n",
    "        description = description_p.text.strip() if description_p else None\n",
    "        data['description'] = description\n",
    "    offers = [div.text.strip() for div in soup.find_all('div', class_='WT_FyS')]\n",
    "    highlights_div = soup.find('div', class_='_2cM9lP')\n",
    "    if highlights_div:\n",
    "        highlights_title_div = highlights_div.find('div', class_='_3a9CI2')\n",
    "        highlights_ul = highlights_div.find('ul')\n",
    "        highlights_title = highlights_title_div.text.strip() if highlights_title_div else None\n",
    "        highlights_list = [li.text.strip() for li in highlights_ul.find_all('li')] if highlights_ul else []\n",
    "        data['highlights'] = highlights_list\n",
    "    data['offers'] = offers\n",
    "    category_div = soup.find_all('a', class_=\"_2whKao\")\n",
    "    j = []\n",
    "    for i in category_div:\n",
    "        j.append(i.text)\n",
    "        \n",
    "    category = j[:3]\n",
    "    data['category'] = category\n",
    "    return data\n",
    "\n",
    "url = \"https://www.flipkart.com/samsung-galaxy-s22-ultra-5g-phantom-black-256-gb/p/itm7ca5bd1817da5?pid=MOBGGG2YA4MHBBZZ&lid=LSTMOBGGG2YA4MHBBZZM13247&marketplace=FLIPKART&q=samsung+salaxy+s22+ultra&store=tyy%2F4io&srno=s_1_1&otracker=search&fm=organic&iid=fc77eb28-163b-45d7-852f-3d9e7078033d.MOBGGG2YA4MHBBZZ.SEARCH&ppt=None&ppn=None&ssid=zg1wh4w0m80000001710259792634&qH=c6e1a112140f4071\"\n",
    "product_data = flipkart_scraper(url)\n",
    "print(product_data)"
   ]
  },
  {
   "cell_type": "code",
   "execution_count": 85,
   "id": "68253e32",
   "metadata": {},
   "outputs": [
    {
     "name": "stdout",
     "output_type": "stream",
     "text": [
      "https://www.flipkart.com/samsung-galaxy-s22-ultra-5g-phantom-black-256-gb/p/itm7ca5bd1817da5?pid=MOBGGG2YA4MHBBZZ&lid=LSTMOBGGG2YA4MHBBZZM13247&marketplace=FLIPKART&q=samsung+salaxy+s22+ultra&store=tyy%2F4io&srno=s_1_1&otracker=search&fm=organic&iid=fc77eb28-163b-45d7-852f-3d9e7078033d.MOBGGG2YA4MHBBZZ.SEARCH&ppt=None&ppn=None&ssid=zg1wh4w0m80000001710259792634&qH=c6e1a112140f4071\n"
     ]
    }
   ],
   "source": [
    "print(flipkart_url)"
   ]
  },
  {
   "cell_type": "markdown",
   "id": "b9b446b2",
   "metadata": {},
   "source": [
    "# Tracker website url builder"
   ]
  },
  {
   "cell_type": "code",
   "execution_count": 89,
   "id": "5da41530",
   "metadata": {},
   "outputs": [
    {
     "name": "stdout",
     "output_type": "stream",
     "text": [
      "https://pricehistoryapp.com/product/samsung-galaxy-s22-ultra-5g-phantom-black-256-gb\n"
     ]
    }
   ],
   "source": [
    "def extract_product_name(flipkart_url):\n",
    "    # Find the position of \".com/\"\n",
    "    start_index = flipkart_url.find(\".com/\") + len(\".com/\")\n",
    "    end_index = flipkart_url.find(\"/p/\")\n",
    "    product_name = flipkart_url[start_index:end_index]\n",
    "    return product_name\n",
    "product_name = extract_product_name(flipkart_url)\n",
    "tracker_link = \"https://pricehistoryapp.com/product/\" + product_name\n",
    "print(tracker_link)"
   ]
  },
  {
   "cell_type": "markdown",
   "id": "a84b579b",
   "metadata": {},
   "source": [
    "# Trcaker website scraper"
   ]
  },
  {
   "cell_type": "code",
   "execution_count": 91,
   "id": "15c35383",
   "metadata": {},
   "outputs": [
    {
     "name": "stdout",
     "output_type": "stream",
     "text": [
      "['Exactly', 'Indeed', 'Maybe', 'Nope']\n"
     ]
    }
   ],
   "source": [
    "import requests\n",
    "from bs4 import BeautifulSoup\n",
    "\n",
    "def extract_text_from_divs(url):\n",
    "    # Fetch the HTML content from the URL\n",
    "    response = requests.get(url)\n",
    "    html_content = response.content\n",
    "\n",
    "    # Parse the HTML content\n",
    "    soup = BeautifulSoup(html_content, \"html.parser\")\n",
    "\n",
    "    # Find the div with the specified class\n",
    "    target_div = soup.find(\"div\", class_=\"flex flex-row h-10 pt-2\")\n",
    "\n",
    "    if target_div:\n",
    "        # Extract text from all child divs\n",
    "        texts = [div.get_text(strip=True) for div in target_div.find_all(\"div\")]\n",
    "        return texts\n",
    "    else:\n",
    "        return None\n",
    "\n",
    "# Example usage\n",
    "url = \"https://pricehistoryapp.com/product/samsung-galaxy-s22-ultra-5g-phantom-black-256-gb\"  # Replace \"https://example.com\" with your actual URL\n",
    "texts = extract_text_from_divs(url)\n",
    "if texts:\n",
    "    print(texts)\n",
    "else:\n",
    "    print(\"Div with class 'flex flex-row h-10 pt-2' not found.\")"
   ]
  },
  {
   "cell_type": "code",
   "execution_count": 95,
   "id": "0b6cb616",
   "metadata": {},
   "outputs": [
    {
     "name": "stdout",
     "output_type": "stream",
     "text": [
      "Rating options with marker: ['Maybe']\n"
     ]
    }
   ],
   "source": [
    "import requests\n",
    "from bs4 import BeautifulSoup\n",
    "\n",
    "def extract_rating_options_with_marker(url):\n",
    "    # Fetch the HTML content from the URL\n",
    "    response = requests.get(url)\n",
    "    html_content = response.content\n",
    "\n",
    "    # Parse the HTML content\n",
    "    soup = BeautifulSoup(html_content, \"html.parser\")\n",
    "\n",
    "    # Find the div with the specified class\n",
    "    target_div = soup.find(\"div\", class_=\"flex flex-row h-10 pt-2\")\n",
    "\n",
    "    if target_div:\n",
    "        # Initialize a list to store the rating options with markers\n",
    "        rating_options_with_marker = []\n",
    "\n",
    "        # Find all child div elements representing rating options\n",
    "        rating_divs = target_div.find_all(\"div\")\n",
    "\n",
    "        # Iterate over each rating div\n",
    "        for div in rating_divs:\n",
    "            # Find the span element representing the marker\n",
    "            marker_span = div.find(\"span\", class_=\"absolute -bottom-4 w-full h-4 flex justify-center\")\n",
    "\n",
    "            # Check if the marker span exists\n",
    "            if marker_span:\n",
    "                # Get the text of the rating option\n",
    "                rating_option = div.find(\"p\").text.strip()\n",
    "                rating_options_with_marker.append(rating_option)\n",
    "\n",
    "        return rating_options_with_marker\n",
    "    else:\n",
    "        return None\n",
    "\n",
    "url = \"https://pricehistoryapp.com/product/samsung-galaxy-s22-ultra-5g-phantom-black-256-gb\"  # Replace \"https://example.com\" with your actual URL\n",
    "rating_options_with_marker = extract_rating_options_with_marker(url)\n",
    "if rating_options_with_marker:\n",
    "    print(\"Rating options with marker:\", rating_options_with_marker)\n",
    "else:\n",
    "    print(\"Div with class 'flex flex-row h-10 pt-2' not found.\")\n"
   ]
  },
  {
   "cell_type": "code",
   "execution_count": 96,
   "id": "39fa5863",
   "metadata": {},
   "outputs": [
    {
     "name": "stdout",
     "output_type": "stream",
     "text": [
      "<iframe src=\"https://pricehistoryapp.com/embed/samsung-galaxy-s22-ultra-5g-phantom-black-256-gb\" width=\"100%\" height=\"500\" frameborder=\"0\" allowtransparency=\"true\" scrolling=\"no\"></iframe>\n"
     ]
    }
   ],
   "source": [
    "def build_embedded_iframe(tracker_url):\n",
    "    embedded_url = tracker_url.replace(\"https://pricehistoryapp.com/product/\", \"https://pricehistoryapp.com/embed/\")\n",
    "    iframe_code = f'<iframe src=\"{embedded_url}\" width=\"100%\" height=\"500\" frameborder=\"0\" allowtransparency=\"true\" scrolling=\"no\"></iframe>'\n",
    "    return iframe_code\n",
    "\n",
    "# Example usage\n",
    "tracker_url = \"https://pricehistoryapp.com/product/samsung-galaxy-s22-ultra-5g-phantom-black-256-gb\"\n",
    "iframe_code = build_embedded_iframe(tracker_url)\n",
    "print(iframe_code)"
   ]
  },
  {
   "cell_type": "code",
   "execution_count": 140,
   "id": "2fdc1f40",
   "metadata": {},
   "outputs": [
    {
     "name": "stdout",
     "output_type": "stream",
     "text": [
      "{'should_buy': 'Maybe', 'buying_info': 'Price is likely to be dropped for this product. You should wait for little more to save some money.', 'prices': ['81250', '99914', '131999'], 'embedded_iframe': '<iframe src=\"https://pricehistoryapp.com/embed/samsung-galaxy-s22-ultra-5g-phantom-black-256-gb\" width=\"100%\" height=\"500\" frameborder=\"0\" allowtransparency=\"true\" scrolling=\"no\"></iframe>'}\n"
     ]
    }
   ],
   "source": [
    "import requests\n",
    "from bs4 import BeautifulSoup\n",
    "import re\n",
    "\n",
    "def build_embedded_iframe(tracker_url):\n",
    "    embedded_url = tracker_url.replace(\"https://pricehistoryapp.com/product/\", \"https://pricehistoryapp.com/embed/\")\n",
    "    iframe_code = f'<iframe src=\"{embedded_url}\" width=\"100%\" height=\"500\" frameborder=\"0\" allowtransparency=\"true\" scrolling=\"no\"></iframe>'\n",
    "    return iframe_code\n",
    "\n",
    "def extract_buying_info(url):\n",
    "    response = requests.get(url)\n",
    "    html_content = response.content\n",
    "    soup = BeautifulSoup(html_content, \"html.parser\")\n",
    "\n",
    "    target_div = soup.find(\"div\", class_=\"flex flex-row h-10 pt-2\")\n",
    "    minmax_price_div = soup.find('div', class_='content-width mx-auto px-3')\n",
    "\n",
    "    if target_div and minmax_price_div:\n",
    "        # Find all child div elements representing rating options\n",
    "        rating_divs = target_div.find_all(\"div\")\n",
    "        rating_option = None\n",
    "        buying_info = None\n",
    "        for div in rating_divs:\n",
    "            marker_span = div.find(\"span\", class_=\"absolute -bottom-4 w-full h-4 flex justify-center\")\n",
    "            if marker_span:\n",
    "                rating_option = div.find(\"p\").text.strip()\n",
    "                buying_info_element = soup.find(\"p\", class_=\"text-gray-500 dark:text-gray-400 text-sm\")\n",
    "                if buying_info_element:\n",
    "                    buying_info = buying_info_element.get_text(strip=True)\n",
    "                break  \n",
    "        prices = []\n",
    "        minmax_text = minmax_price_div.get_text(strip=True)\n",
    "        price_match = re.findall(r'\\d+', minmax_text)  # Match decimal numbers\n",
    "        if price_match:\n",
    "            prices = price_match[-3:] \n",
    "\n",
    "        embedded_iframe = build_embedded_iframe(url)\n",
    "        \n",
    "        return {\n",
    "            \"should_buy\": rating_option,\n",
    "            \"buying_info\": buying_info,\n",
    "            \"prices\": prices,\n",
    "            \"embedded_iframe\": embedded_iframe\n",
    "        }\n",
    "    else:\n",
    "        return None\n",
    "\n",
    "# Example usage\n",
    "url = \"https://pricehistoryapp.com/product/samsung-galaxy-s22-ultra-5g-phantom-black-256-gb\"\n",
    "result = extract_buying_info(url)\n",
    "if result:\n",
    "    print(result)\n",
    "else:\n",
    "    print(\"Div with class 'flex flex-row h-10 pt-2' or price div not found.\")\n"
   ]
  },
  {
   "cell_type": "code",
   "execution_count": null,
   "id": "e38b52cb",
   "metadata": {},
   "outputs": [],
   "source": []
  }
 ],
 "metadata": {
  "kernelspec": {
   "display_name": "Python 3 (ipykernel)",
   "language": "python",
   "name": "python3"
  },
  "language_info": {
   "codemirror_mode": {
    "name": "ipython",
    "version": 3
   },
   "file_extension": ".py",
   "mimetype": "text/x-python",
   "name": "python",
   "nbconvert_exporter": "python",
   "pygments_lexer": "ipython3",
   "version": "3.11.5"
  }
 },
 "nbformat": 4,
 "nbformat_minor": 5
}
